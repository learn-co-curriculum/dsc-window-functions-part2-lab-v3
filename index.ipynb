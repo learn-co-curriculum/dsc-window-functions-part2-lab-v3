{
 "cells": [
  {
   "cell_type": "markdown",
   "metadata": {},
   "source": [
    "# SQL Transaction Functions Lab\n",
    "\n",
    "## Introduction\n",
    "\n",
    "## Objectives\n",
    "- Recognize when to use between `LAG()` vs `LEAD()`"
   ]
  },
  {
   "cell_type": "markdown",
   "metadata": {},
   "source": [
    "These questions can be solved either on sqlite cli or [db-fiddle](https://www.db-fiddle.com/)."
   ]
  },
  {
   "cell_type": "markdown",
   "metadata": {},
   "source": [
    "### Exercises\n",
    "\n",
    "Use Pandas to wrangle data and insert data into a database of your choice.\n",
    "\n",
    "The data has High, Low, and Close values of certain cryptocurrency of the day.\n",
    "\n",
    "### Exercise 1\n",
    "\n",
    "Get the average of Close values only for both cryptocurrency in the dataset."
   ]
  },
  {
   "cell_type": "code",
   "execution_count": 1,
   "metadata": {},
   "outputs": [],
   "source": [
    "# __SOLUTION__"
   ]
  },
  {
   "cell_type": "markdown",
   "metadata": {},
   "source": [
    "### Exercise 2\n",
    "\n",
    "Generate a column to show the difference on each days. Use Close column to generate these values."
   ]
  },
  {
   "cell_type": "code",
   "execution_count": 2,
   "metadata": {},
   "outputs": [],
   "source": [
    "# __SOLUTION__"
   ]
  },
  {
   "cell_type": "markdown",
   "metadata": {},
   "source": [
    "### Exercise 3\n",
    "\n",
    "Get rolling average of Close values for both cryptocurrency. If you're not sure what rolling averages are, read [this article](https://learnsql.com/blog/rolling-average-in-sql/). Play around with the rolling average window, and choose one yourself."
   ]
  },
  {
   "cell_type": "code",
   "execution_count": 3,
   "metadata": {},
   "outputs": [],
   "source": [
    "# __SOLUTION__"
   ]
  }
 ],
 "metadata": {
  "kernelspec": {
   "display_name": "Python 3",
   "language": "python",
   "name": "python3"
  },
  "language_info": {
   "codemirror_mode": {
    "name": "ipython",
    "version": 3
   },
   "file_extension": ".py",
   "mimetype": "text/x-python",
   "name": "python",
   "nbconvert_exporter": "python",
   "pygments_lexer": "ipython3",
   "version": "3.8.5"
  }
 },
 "nbformat": 4,
 "nbformat_minor": 4
}
